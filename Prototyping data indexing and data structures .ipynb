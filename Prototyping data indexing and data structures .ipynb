{
 "cells": [
  {
   "cell_type": "code",
   "execution_count": 2,
   "metadata": {
    "collapsed": true
   },
   "outputs": [],
   "source": [
    "import pandas as pd\n",
    "import numpy as np"
   ]
  },
  {
   "cell_type": "code",
   "execution_count": 3,
   "metadata": {
    "collapsed": true
   },
   "outputs": [],
   "source": [
    "tags = ['ID', 'offset', 'bid_1', 'ask_1', 'bid_2', 'ask_2', 'bid_size_1', 'ask_size_1', 'bid_size_2', 'ask_size_2', 'bid_entry_1', 'ask_entry_1', 'bid_entry_2', 'ask_entry_2', 'bid_entropy_1', 'ask_entropy_1', 'bid_entropy_2', 'ask_entropy_2', 'bid_sqentry_1', 'ask_sqentry_1', 'bid_sqentry_2', 'ask_sqentry_2', 'nb_trade']"
   ]
  },
  {
   "cell_type": "code",
   "execution_count": 16,
   "metadata": {
    "collapsed": false
   },
   "outputs": [],
   "source": [
    "DATAPATH = '/media/dhruv/New Volume/data challenge/data/smaller files'"
   ]
  },
  {
   "cell_type": "code",
   "execution_count": 17,
   "metadata": {
    "collapsed": true
   },
   "outputs": [],
   "source": [
    "input_data_file = DATAPATH +'/xaa'"
   ]
  },
  {
   "cell_type": "code",
   "execution_count": 18,
   "metadata": {
    "collapsed": false
   },
   "outputs": [],
   "source": [
    "input_data = pd.read_csv(input_data_file)"
   ]
  },
  {
   "cell_type": "code",
   "execution_count": 20,
   "metadata": {
    "collapsed": false
   },
   "outputs": [],
   "source": [
    "unique_ids = input_data.ID.unique()"
   ]
  },
  {
   "cell_type": "code",
   "execution_count": 32,
   "metadata": {
    "collapsed": false
   },
   "outputs": [],
   "source": [
    "input_data_dict = {elem : pd.DataFrame for elem in unique_ids}"
   ]
  },
  {
   "cell_type": "code",
   "execution_count": 176,
   "metadata": {
    "collapsed": false
   },
   "outputs": [],
   "source": [
    "target_data_file = DATAPATH+'/xaa_target'"
   ]
  },
  {
   "cell_type": "code",
   "execution_count": 177,
   "metadata": {
    "collapsed": true
   },
   "outputs": [],
   "source": [
    "target_data = pd.read_csv(target_data_file, delimiter = ';')"
   ]
  },
  {
   "cell_type": "code",
   "execution_count": 45,
   "metadata": {
    "collapsed": false
   },
   "outputs": [],
   "source": [
    "target_data_dict = {elem: pd.DataFrame for elem in unique_ids}"
   ]
  },
  {
   "cell_type": "code",
   "execution_count": 166,
   "metadata": {
    "collapsed": false
   },
   "outputs": [],
   "source": [
    "for keys in target_data_dict.keys():\n",
    "    target_data_dict[key] = target_data[:][target_data.ID == key]"
   ]
  },
  {
   "cell_type": "code",
   "execution_count": 50,
   "metadata": {
    "collapsed": false
   },
   "outputs": [
    {
     "data": {
      "text/plain": [
       "True"
      ]
     },
     "execution_count": 50,
     "metadata": {},
     "output_type": "execute_result"
    }
   ],
   "source": [
    "len(target_data_dict) == len(input_data_dict)"
   ]
  },
  {
   "cell_type": "markdown",
   "metadata": {},
   "source": [
    "Now that we have the individual data frames and the target data indexed by ids, lets make a list of the useful quantities that we would need to build the features. To this end, lets just take a particular data frame for the input_data_dict"
   ]
  },
  {
   "cell_type": "code",
   "execution_count": 191,
   "metadata": {
    "collapsed": true
   },
   "outputs": [],
   "source": [
    "test_df = input_data_dict[45]"
   ]
  },
  {
   "cell_type": "markdown",
   "metadata": {},
   "source": [
    "Lets create a hash-table for local and global variables. The local variables are those defined for each offset whilst global variables are max-min, std and change variables. \n",
    "\n",
    "### Test run"
   ]
  },
  {
   "cell_type": "code",
   "execution_count": 192,
   "metadata": {
    "collapsed": false
   },
   "outputs": [],
   "source": [
    "test_dict = {}"
   ]
  },
  {
   "cell_type": "code",
   "execution_count": 193,
   "metadata": {
    "collapsed": false
   },
   "outputs": [],
   "source": [
    "test_dict['df'] = test_df"
   ]
  },
  {
   "cell_type": "code",
   "execution_count": 128,
   "metadata": {
    "collapsed": false
   },
   "outputs": [],
   "source": [
    "useful_tags = tags[2:]"
   ]
  },
  {
   "cell_type": "code",
   "execution_count": 129,
   "metadata": {
    "collapsed": false
   },
   "outputs": [],
   "source": [
    "test_dict['stats'] = test_dict['df'].describe()"
   ]
  },
  {
   "cell_type": "code",
   "execution_count": 130,
   "metadata": {
    "collapsed": true
   },
   "outputs": [],
   "source": [
    "y = test_dict['stats']"
   ]
  },
  {
   "cell_type": "code",
   "execution_count": 131,
   "metadata": {
    "collapsed": false
   },
   "outputs": [
    {
     "data": {
      "text/plain": [
       "8"
      ]
     },
     "execution_count": 131,
     "metadata": {},
     "output_type": "execute_result"
    }
   ],
   "source": [
    "y.count()['bid_1']"
   ]
  },
  {
   "cell_type": "code",
   "execution_count": 223,
   "metadata": {
    "collapsed": true
   },
   "outputs": [],
   "source": [
    "def is_change(test_dict,tag):\n",
    "    ## check whether the tag changed in the data frame \n",
    "    ## once checked create a new entry in the dictionary as a key-value pair\n",
    "    ser = test_dict['df'][tag]\n",
    "    #ser.index = range(len(ser))\n",
    "    count = 0\n",
    "    for i in range(1,len(ser)):\n",
    "        if ser[i-1] != ser[i]:\n",
    "            count +=1\n",
    "    ## creating key-value pairs \n",
    "    test_dict['max_'+tag] = max(ser)\n",
    "    test_dict['min_'+tag] = min(ser)\n",
    "    test_dict['change_by_'+tag] = -ser[0]+ser[len(ser)-1]\n",
    "    test_dict['if_change_'+tag] = (count !=0)\n",
    "    test_dict['mean_'+tag] = ser.mean()\n",
    "    test_dict['change_times_'+tag] = count\n",
    "    test_dict['target'] = target_data.TARGET\n",
    "    "
   ]
  },
  {
   "cell_type": "code",
   "execution_count": 143,
   "metadata": {
    "collapsed": false
   },
   "outputs": [],
   "source": [
    "for tag in useful_tags:\n",
    "    is_change(test_dict,tag)"
   ]
  },
  {
   "cell_type": "code",
   "execution_count": 134,
   "metadata": {
    "collapsed": false
   },
   "outputs": [],
   "source": [
    "ser = test_dict['df'][useful_tags[2]]"
   ]
  },
  {
   "cell_type": "code",
   "execution_count": 141,
   "metadata": {
    "collapsed": false
   },
   "outputs": [
    {
     "name": "stdout",
     "output_type": "stream",
     "text": [
      "Int64Index([0, 1, 2, 3, 4, 5, 6, 7], dtype='int64')\n"
     ]
    }
   ],
   "source": [
    "ser.index = range(len(ser))\n",
    "print ser.index"
   ]
  },
  {
   "cell_type": "code",
   "execution_count": 174,
   "metadata": {
    "collapsed": false,
    "scrolled": true
   },
   "outputs": [
    {
     "data": {
      "text/html": [
       "<div>\n",
       "<table border=\"1\" class=\"dataframe\">\n",
       "  <thead>\n",
       "    <tr style=\"text-align: right;\">\n",
       "      <th></th>\n",
       "      <th>ID</th>\n",
       "      <th>offset</th>\n",
       "      <th>bid_1</th>\n",
       "      <th>ask_1</th>\n",
       "      <th>bid_2</th>\n",
       "      <th>ask_2</th>\n",
       "      <th>bid_size_1</th>\n",
       "      <th>ask_size_1</th>\n",
       "      <th>bid_size_2</th>\n",
       "      <th>ask_size_2</th>\n",
       "      <th>...</th>\n",
       "      <th>ask_entry_2</th>\n",
       "      <th>bid_entropy_1</th>\n",
       "      <th>ask_entropy_1</th>\n",
       "      <th>bid_entropy_2</th>\n",
       "      <th>ask_entropy_2</th>\n",
       "      <th>bid_sqentry_1</th>\n",
       "      <th>ask_sqentry_1</th>\n",
       "      <th>bid_sqentry_2</th>\n",
       "      <th>ask_sqentry_2</th>\n",
       "      <th>nb_trade</th>\n",
       "    </tr>\n",
       "  </thead>\n",
       "  <tbody>\n",
       "    <tr>\n",
       "      <th>0</th>\n",
       "      <td>100</td>\n",
       "      <td>-1000</td>\n",
       "      <td>1444.0</td>\n",
       "      <td>1445.0</td>\n",
       "      <td>1443.0</td>\n",
       "      <td>1446.0</td>\n",
       "      <td>164</td>\n",
       "      <td>260</td>\n",
       "      <td>535</td>\n",
       "      <td>569</td>\n",
       "      <td>...</td>\n",
       "      <td>73</td>\n",
       "      <td>1.515264</td>\n",
       "      <td>1.936144</td>\n",
       "      <td>2.332604</td>\n",
       "      <td>2.418653</td>\n",
       "      <td>1.0</td>\n",
       "      <td>49.0</td>\n",
       "      <td>1.0</td>\n",
       "      <td>1.0</td>\n",
       "      <td>0.0</td>\n",
       "    </tr>\n",
       "    <tr>\n",
       "      <th>1</th>\n",
       "      <td>100</td>\n",
       "      <td>-500</td>\n",
       "      <td>1444.0</td>\n",
       "      <td>1445.0</td>\n",
       "      <td>1443.0</td>\n",
       "      <td>1446.0</td>\n",
       "      <td>164</td>\n",
       "      <td>260</td>\n",
       "      <td>535</td>\n",
       "      <td>569</td>\n",
       "      <td>...</td>\n",
       "      <td>73</td>\n",
       "      <td>1.515264</td>\n",
       "      <td>1.936144</td>\n",
       "      <td>2.332604</td>\n",
       "      <td>2.418653</td>\n",
       "      <td>1.0</td>\n",
       "      <td>49.0</td>\n",
       "      <td>1.0</td>\n",
       "      <td>1.0</td>\n",
       "      <td>0.0</td>\n",
       "    </tr>\n",
       "    <tr>\n",
       "      <th>2</th>\n",
       "      <td>100</td>\n",
       "      <td>-200</td>\n",
       "      <td>1444.0</td>\n",
       "      <td>1445.0</td>\n",
       "      <td>1443.0</td>\n",
       "      <td>1446.0</td>\n",
       "      <td>167</td>\n",
       "      <td>223</td>\n",
       "      <td>535</td>\n",
       "      <td>560</td>\n",
       "      <td>...</td>\n",
       "      <td>71</td>\n",
       "      <td>1.580532</td>\n",
       "      <td>1.744947</td>\n",
       "      <td>2.332604</td>\n",
       "      <td>2.410262</td>\n",
       "      <td>4.0</td>\n",
       "      <td>49.0</td>\n",
       "      <td>1.0</td>\n",
       "      <td>1.0</td>\n",
       "      <td>0.0</td>\n",
       "    </tr>\n",
       "    <tr>\n",
       "      <th>3</th>\n",
       "      <td>100</td>\n",
       "      <td>-100</td>\n",
       "      <td>1444.0</td>\n",
       "      <td>1445.0</td>\n",
       "      <td>1443.0</td>\n",
       "      <td>1446.0</td>\n",
       "      <td>167</td>\n",
       "      <td>223</td>\n",
       "      <td>535</td>\n",
       "      <td>560</td>\n",
       "      <td>...</td>\n",
       "      <td>71</td>\n",
       "      <td>1.580532</td>\n",
       "      <td>1.744947</td>\n",
       "      <td>2.332604</td>\n",
       "      <td>2.410262</td>\n",
       "      <td>4.0</td>\n",
       "      <td>49.0</td>\n",
       "      <td>1.0</td>\n",
       "      <td>1.0</td>\n",
       "      <td>0.0</td>\n",
       "    </tr>\n",
       "    <tr>\n",
       "      <th>4</th>\n",
       "      <td>100</td>\n",
       "      <td>-50</td>\n",
       "      <td>1444.0</td>\n",
       "      <td>1445.0</td>\n",
       "      <td>1443.0</td>\n",
       "      <td>1446.0</td>\n",
       "      <td>167</td>\n",
       "      <td>223</td>\n",
       "      <td>535</td>\n",
       "      <td>560</td>\n",
       "      <td>...</td>\n",
       "      <td>71</td>\n",
       "      <td>1.580532</td>\n",
       "      <td>1.744947</td>\n",
       "      <td>2.332604</td>\n",
       "      <td>2.410262</td>\n",
       "      <td>4.0</td>\n",
       "      <td>49.0</td>\n",
       "      <td>1.0</td>\n",
       "      <td>1.0</td>\n",
       "      <td>0.0</td>\n",
       "    </tr>\n",
       "    <tr>\n",
       "      <th>5</th>\n",
       "      <td>100</td>\n",
       "      <td>-20</td>\n",
       "      <td>1444.0</td>\n",
       "      <td>1445.0</td>\n",
       "      <td>1443.0</td>\n",
       "      <td>1446.0</td>\n",
       "      <td>167</td>\n",
       "      <td>223</td>\n",
       "      <td>535</td>\n",
       "      <td>560</td>\n",
       "      <td>...</td>\n",
       "      <td>71</td>\n",
       "      <td>1.580532</td>\n",
       "      <td>1.744947</td>\n",
       "      <td>2.332604</td>\n",
       "      <td>2.410262</td>\n",
       "      <td>4.0</td>\n",
       "      <td>49.0</td>\n",
       "      <td>1.0</td>\n",
       "      <td>1.0</td>\n",
       "      <td>0.0</td>\n",
       "    </tr>\n",
       "    <tr>\n",
       "      <th>6</th>\n",
       "      <td>100</td>\n",
       "      <td>-10</td>\n",
       "      <td>1444.0</td>\n",
       "      <td>1445.0</td>\n",
       "      <td>1443.0</td>\n",
       "      <td>1446.0</td>\n",
       "      <td>167</td>\n",
       "      <td>223</td>\n",
       "      <td>535</td>\n",
       "      <td>560</td>\n",
       "      <td>...</td>\n",
       "      <td>71</td>\n",
       "      <td>1.580532</td>\n",
       "      <td>1.744947</td>\n",
       "      <td>2.332604</td>\n",
       "      <td>2.410262</td>\n",
       "      <td>4.0</td>\n",
       "      <td>49.0</td>\n",
       "      <td>1.0</td>\n",
       "      <td>1.0</td>\n",
       "      <td>0.0</td>\n",
       "    </tr>\n",
       "    <tr>\n",
       "      <th>7</th>\n",
       "      <td>100</td>\n",
       "      <td>0</td>\n",
       "      <td>1444.0</td>\n",
       "      <td>1445.0</td>\n",
       "      <td>1443.0</td>\n",
       "      <td>1446.0</td>\n",
       "      <td>167</td>\n",
       "      <td>223</td>\n",
       "      <td>535</td>\n",
       "      <td>560</td>\n",
       "      <td>...</td>\n",
       "      <td>71</td>\n",
       "      <td>1.580532</td>\n",
       "      <td>1.744947</td>\n",
       "      <td>2.332604</td>\n",
       "      <td>2.410262</td>\n",
       "      <td>4.0</td>\n",
       "      <td>49.0</td>\n",
       "      <td>1.0</td>\n",
       "      <td>1.0</td>\n",
       "      <td>0.0</td>\n",
       "    </tr>\n",
       "  </tbody>\n",
       "</table>\n",
       "<p>8 rows × 23 columns</p>\n",
       "</div>"
      ],
      "text/plain": [
       "    ID  offset   bid_1   ask_1   bid_2   ask_2  bid_size_1  ask_size_1  \\\n",
       "0  100   -1000  1444.0  1445.0  1443.0  1446.0         164         260   \n",
       "1  100    -500  1444.0  1445.0  1443.0  1446.0         164         260   \n",
       "2  100    -200  1444.0  1445.0  1443.0  1446.0         167         223   \n",
       "3  100    -100  1444.0  1445.0  1443.0  1446.0         167         223   \n",
       "4  100     -50  1444.0  1445.0  1443.0  1446.0         167         223   \n",
       "5  100     -20  1444.0  1445.0  1443.0  1446.0         167         223   \n",
       "6  100     -10  1444.0  1445.0  1443.0  1446.0         167         223   \n",
       "7  100       0  1444.0  1445.0  1443.0  1446.0         167         223   \n",
       "\n",
       "   bid_size_2  ask_size_2    ...     ask_entry_2  bid_entropy_1  \\\n",
       "0         535         569    ...              73       1.515264   \n",
       "1         535         569    ...              73       1.515264   \n",
       "2         535         560    ...              71       1.580532   \n",
       "3         535         560    ...              71       1.580532   \n",
       "4         535         560    ...              71       1.580532   \n",
       "5         535         560    ...              71       1.580532   \n",
       "6         535         560    ...              71       1.580532   \n",
       "7         535         560    ...              71       1.580532   \n",
       "\n",
       "   ask_entropy_1  bid_entropy_2  ask_entropy_2  bid_sqentry_1  ask_sqentry_1  \\\n",
       "0       1.936144       2.332604       2.418653            1.0           49.0   \n",
       "1       1.936144       2.332604       2.418653            1.0           49.0   \n",
       "2       1.744947       2.332604       2.410262            4.0           49.0   \n",
       "3       1.744947       2.332604       2.410262            4.0           49.0   \n",
       "4       1.744947       2.332604       2.410262            4.0           49.0   \n",
       "5       1.744947       2.332604       2.410262            4.0           49.0   \n",
       "6       1.744947       2.332604       2.410262            4.0           49.0   \n",
       "7       1.744947       2.332604       2.410262            4.0           49.0   \n",
       "\n",
       "   bid_sqentry_2  ask_sqentry_2  nb_trade  \n",
       "0            1.0            1.0       0.0  \n",
       "1            1.0            1.0       0.0  \n",
       "2            1.0            1.0       0.0  \n",
       "3            1.0            1.0       0.0  \n",
       "4            1.0            1.0       0.0  \n",
       "5            1.0            1.0       0.0  \n",
       "6            1.0            1.0       0.0  \n",
       "7            1.0            1.0       0.0  \n",
       "\n",
       "[8 rows x 23 columns]"
      ]
     },
     "execution_count": 174,
     "metadata": {},
     "output_type": "execute_result"
    }
   ],
   "source": [
    "test_dict['df'].index = range(len(test_dict['df']))\n",
    "test_dict['df']"
   ]
  },
  {
   "cell_type": "markdown",
   "metadata": {},
   "source": [
    "### Get target value given an id"
   ]
  },
  {
   "cell_type": "code",
   "execution_count": 189,
   "metadata": {
    "collapsed": false,
    "scrolled": true
   },
   "outputs": [
    {
     "data": {
      "text/plain": [
       "0"
      ]
     },
     "execution_count": 189,
     "metadata": {},
     "output_type": "execute_result"
    }
   ],
   "source": [
    "dummy_index = list(target_data.ID)\n",
    "target_data.index = dummy_index\n",
    "target_data.TARGET[2]"
   ]
  },
  {
   "cell_type": "code",
   "execution_count": 201,
   "metadata": {
    "collapsed": false
   },
   "outputs": [
    {
     "data": {
      "text/plain": [
       "45"
      ]
     },
     "execution_count": 201,
     "metadata": {},
     "output_type": "execute_result"
    }
   ],
   "source": [
    "dummy_index_2 = len(test_dict['df'].ID)\n",
    "test_dict['df'].index= list(range(dummy_index_2))\n",
    "test_dict['df'].ID[0]"
   ]
  },
  {
   "cell_type": "markdown",
   "metadata": {},
   "source": [
    "## Lets loop this!\n",
    "\n",
    "We shall test this for a small number of ids say 100 or so. "
   ]
  },
  {
   "cell_type": "code",
   "execution_count": 212,
   "metadata": {
    "collapsed": false
   },
   "outputs": [
    {
     "name": "stdout",
     "output_type": "stream",
     "text": [
      "CPU times: user 8.75 s, sys: 4.02 ms, total: 8.75 s\n",
      "Wall time: 8.75 s\n"
     ]
    }
   ],
   "source": [
    "%%time\n",
    "hash_list = {}\n",
    "for unique_id in unique_ids[0:100]:\n",
    "    test_dict = {}\n",
    "    test_dict['df'] = input_data_dict[unique_id]\n",
    "    test_dict['df'].index = list(range(len(test_dict['df'].ID)))\n",
    "    test_dict['target'] = target_data.TARGET[unique_id]\n",
    "    test_dict['stats'] = test_dict['df'].describe()\n",
    "    for tag in useful_tags:\n",
    "        is_change(test_dict,tag)\n",
    "    hash_list[unique_id] = test_dict\n",
    "    "
   ]
  },
  {
   "cell_type": "markdown",
   "metadata": {},
   "source": [
    "## Sanity Checks"
   ]
  },
  {
   "cell_type": "code",
   "execution_count": 214,
   "metadata": {
    "collapsed": false
   },
   "outputs": [
    {
     "data": {
      "text/html": [
       "<div>\n",
       "<table border=\"1\" class=\"dataframe\">\n",
       "  <thead>\n",
       "    <tr style=\"text-align: right;\">\n",
       "      <th></th>\n",
       "      <th>ID</th>\n",
       "      <th>offset</th>\n",
       "      <th>bid_1</th>\n",
       "      <th>ask_1</th>\n",
       "      <th>bid_2</th>\n",
       "      <th>ask_2</th>\n",
       "      <th>bid_size_1</th>\n",
       "      <th>ask_size_1</th>\n",
       "      <th>bid_size_2</th>\n",
       "      <th>ask_size_2</th>\n",
       "      <th>...</th>\n",
       "      <th>ask_entry_2</th>\n",
       "      <th>bid_entropy_1</th>\n",
       "      <th>ask_entropy_1</th>\n",
       "      <th>bid_entropy_2</th>\n",
       "      <th>ask_entropy_2</th>\n",
       "      <th>bid_sqentry_1</th>\n",
       "      <th>ask_sqentry_1</th>\n",
       "      <th>bid_sqentry_2</th>\n",
       "      <th>ask_sqentry_2</th>\n",
       "      <th>nb_trade</th>\n",
       "    </tr>\n",
       "  </thead>\n",
       "  <tbody>\n",
       "    <tr>\n",
       "      <th>0</th>\n",
       "      <td>65</td>\n",
       "      <td>-1000</td>\n",
       "      <td>1448.0</td>\n",
       "      <td>1449.0</td>\n",
       "      <td>1447.0</td>\n",
       "      <td>1450.0</td>\n",
       "      <td>92</td>\n",
       "      <td>287</td>\n",
       "      <td>548</td>\n",
       "      <td>903</td>\n",
       "      <td>...</td>\n",
       "      <td>74</td>\n",
       "      <td>1.098612</td>\n",
       "      <td>2.358446</td>\n",
       "      <td>2.405047</td>\n",
       "      <td>2.476868</td>\n",
       "      <td>3600.0</td>\n",
       "      <td>100.0</td>\n",
       "      <td>1.0</td>\n",
       "      <td>1.0</td>\n",
       "      <td>0.0</td>\n",
       "    </tr>\n",
       "    <tr>\n",
       "      <th>1</th>\n",
       "      <td>65</td>\n",
       "      <td>-500</td>\n",
       "      <td>1447.0</td>\n",
       "      <td>1448.0</td>\n",
       "      <td>1446.0</td>\n",
       "      <td>1449.0</td>\n",
       "      <td>524</td>\n",
       "      <td>60</td>\n",
       "      <td>622</td>\n",
       "      <td>387</td>\n",
       "      <td>...</td>\n",
       "      <td>62</td>\n",
       "      <td>2.383791</td>\n",
       "      <td>1.329661</td>\n",
       "      <td>2.241951</td>\n",
       "      <td>2.382440</td>\n",
       "      <td>100.0</td>\n",
       "      <td>36.0</td>\n",
       "      <td>9.0</td>\n",
       "      <td>25.0</td>\n",
       "      <td>7.0</td>\n",
       "    </tr>\n",
       "    <tr>\n",
       "      <th>2</th>\n",
       "      <td>65</td>\n",
       "      <td>-200</td>\n",
       "      <td>1447.0</td>\n",
       "      <td>1448.0</td>\n",
       "      <td>1446.0</td>\n",
       "      <td>1449.0</td>\n",
       "      <td>519</td>\n",
       "      <td>49</td>\n",
       "      <td>627</td>\n",
       "      <td>387</td>\n",
       "      <td>...</td>\n",
       "      <td>62</td>\n",
       "      <td>2.384969</td>\n",
       "      <td>1.332179</td>\n",
       "      <td>2.249656</td>\n",
       "      <td>2.382440</td>\n",
       "      <td>100.0</td>\n",
       "      <td>4.0</td>\n",
       "      <td>25.0</td>\n",
       "      <td>25.0</td>\n",
       "      <td>8.0</td>\n",
       "    </tr>\n",
       "    <tr>\n",
       "      <th>3</th>\n",
       "      <td>65</td>\n",
       "      <td>-100</td>\n",
       "      <td>1447.0</td>\n",
       "      <td>1448.0</td>\n",
       "      <td>1446.0</td>\n",
       "      <td>1449.0</td>\n",
       "      <td>519</td>\n",
       "      <td>47</td>\n",
       "      <td>627</td>\n",
       "      <td>387</td>\n",
       "      <td>...</td>\n",
       "      <td>62</td>\n",
       "      <td>2.384969</td>\n",
       "      <td>1.386294</td>\n",
       "      <td>2.249656</td>\n",
       "      <td>2.382440</td>\n",
       "      <td>100.0</td>\n",
       "      <td>900.0</td>\n",
       "      <td>25.0</td>\n",
       "      <td>25.0</td>\n",
       "      <td>8.0</td>\n",
       "    </tr>\n",
       "    <tr>\n",
       "      <th>4</th>\n",
       "      <td>65</td>\n",
       "      <td>-50</td>\n",
       "      <td>1447.0</td>\n",
       "      <td>1448.0</td>\n",
       "      <td>1446.0</td>\n",
       "      <td>1449.0</td>\n",
       "      <td>519</td>\n",
       "      <td>47</td>\n",
       "      <td>627</td>\n",
       "      <td>387</td>\n",
       "      <td>...</td>\n",
       "      <td>62</td>\n",
       "      <td>2.384969</td>\n",
       "      <td>1.386294</td>\n",
       "      <td>2.249656</td>\n",
       "      <td>2.382440</td>\n",
       "      <td>100.0</td>\n",
       "      <td>900.0</td>\n",
       "      <td>25.0</td>\n",
       "      <td>25.0</td>\n",
       "      <td>8.0</td>\n",
       "    </tr>\n",
       "    <tr>\n",
       "      <th>5</th>\n",
       "      <td>65</td>\n",
       "      <td>-20</td>\n",
       "      <td>1447.0</td>\n",
       "      <td>1448.0</td>\n",
       "      <td>1446.0</td>\n",
       "      <td>1449.0</td>\n",
       "      <td>519</td>\n",
       "      <td>47</td>\n",
       "      <td>627</td>\n",
       "      <td>387</td>\n",
       "      <td>...</td>\n",
       "      <td>62</td>\n",
       "      <td>2.384969</td>\n",
       "      <td>1.386294</td>\n",
       "      <td>2.249656</td>\n",
       "      <td>2.382440</td>\n",
       "      <td>100.0</td>\n",
       "      <td>900.0</td>\n",
       "      <td>25.0</td>\n",
       "      <td>25.0</td>\n",
       "      <td>8.0</td>\n",
       "    </tr>\n",
       "    <tr>\n",
       "      <th>6</th>\n",
       "      <td>65</td>\n",
       "      <td>-10</td>\n",
       "      <td>1447.0</td>\n",
       "      <td>1448.0</td>\n",
       "      <td>1446.0</td>\n",
       "      <td>1449.0</td>\n",
       "      <td>519</td>\n",
       "      <td>47</td>\n",
       "      <td>627</td>\n",
       "      <td>387</td>\n",
       "      <td>...</td>\n",
       "      <td>62</td>\n",
       "      <td>2.384969</td>\n",
       "      <td>1.386294</td>\n",
       "      <td>2.249656</td>\n",
       "      <td>2.382440</td>\n",
       "      <td>100.0</td>\n",
       "      <td>900.0</td>\n",
       "      <td>25.0</td>\n",
       "      <td>25.0</td>\n",
       "      <td>8.0</td>\n",
       "    </tr>\n",
       "    <tr>\n",
       "      <th>7</th>\n",
       "      <td>65</td>\n",
       "      <td>0</td>\n",
       "      <td>1447.0</td>\n",
       "      <td>1448.0</td>\n",
       "      <td>1446.0</td>\n",
       "      <td>1449.0</td>\n",
       "      <td>519</td>\n",
       "      <td>47</td>\n",
       "      <td>627</td>\n",
       "      <td>387</td>\n",
       "      <td>...</td>\n",
       "      <td>62</td>\n",
       "      <td>2.384969</td>\n",
       "      <td>1.386294</td>\n",
       "      <td>2.249656</td>\n",
       "      <td>2.382440</td>\n",
       "      <td>100.0</td>\n",
       "      <td>900.0</td>\n",
       "      <td>25.0</td>\n",
       "      <td>25.0</td>\n",
       "      <td>8.0</td>\n",
       "    </tr>\n",
       "  </tbody>\n",
       "</table>\n",
       "<p>8 rows × 23 columns</p>\n",
       "</div>"
      ],
      "text/plain": [
       "   ID  offset   bid_1   ask_1   bid_2   ask_2  bid_size_1  ask_size_1  \\\n",
       "0  65   -1000  1448.0  1449.0  1447.0  1450.0          92         287   \n",
       "1  65    -500  1447.0  1448.0  1446.0  1449.0         524          60   \n",
       "2  65    -200  1447.0  1448.0  1446.0  1449.0         519          49   \n",
       "3  65    -100  1447.0  1448.0  1446.0  1449.0         519          47   \n",
       "4  65     -50  1447.0  1448.0  1446.0  1449.0         519          47   \n",
       "5  65     -20  1447.0  1448.0  1446.0  1449.0         519          47   \n",
       "6  65     -10  1447.0  1448.0  1446.0  1449.0         519          47   \n",
       "7  65       0  1447.0  1448.0  1446.0  1449.0         519          47   \n",
       "\n",
       "   bid_size_2  ask_size_2    ...     ask_entry_2  bid_entropy_1  \\\n",
       "0         548         903    ...              74       1.098612   \n",
       "1         622         387    ...              62       2.383791   \n",
       "2         627         387    ...              62       2.384969   \n",
       "3         627         387    ...              62       2.384969   \n",
       "4         627         387    ...              62       2.384969   \n",
       "5         627         387    ...              62       2.384969   \n",
       "6         627         387    ...              62       2.384969   \n",
       "7         627         387    ...              62       2.384969   \n",
       "\n",
       "   ask_entropy_1  bid_entropy_2  ask_entropy_2  bid_sqentry_1  ask_sqentry_1  \\\n",
       "0       2.358446       2.405047       2.476868         3600.0          100.0   \n",
       "1       1.329661       2.241951       2.382440          100.0           36.0   \n",
       "2       1.332179       2.249656       2.382440          100.0            4.0   \n",
       "3       1.386294       2.249656       2.382440          100.0          900.0   \n",
       "4       1.386294       2.249656       2.382440          100.0          900.0   \n",
       "5       1.386294       2.249656       2.382440          100.0          900.0   \n",
       "6       1.386294       2.249656       2.382440          100.0          900.0   \n",
       "7       1.386294       2.249656       2.382440          100.0          900.0   \n",
       "\n",
       "   bid_sqentry_2  ask_sqentry_2  nb_trade  \n",
       "0            1.0            1.0       0.0  \n",
       "1            9.0           25.0       7.0  \n",
       "2           25.0           25.0       8.0  \n",
       "3           25.0           25.0       8.0  \n",
       "4           25.0           25.0       8.0  \n",
       "5           25.0           25.0       8.0  \n",
       "6           25.0           25.0       8.0  \n",
       "7           25.0           25.0       8.0  \n",
       "\n",
       "[8 rows x 23 columns]"
      ]
     },
     "execution_count": 214,
     "metadata": {},
     "output_type": "execute_result"
    }
   ],
   "source": [
    "check_df = hash_list[65]['df']\n",
    "check_df\n"
   ]
  },
  {
   "cell_type": "code",
   "execution_count": 222,
   "metadata": {
    "collapsed": false
   },
   "outputs": [
    {
     "data": {
      "text/plain": [
       "-8.0"
      ]
     },
     "execution_count": 222,
     "metadata": {},
     "output_type": "execute_result"
    }
   ],
   "source": [
    "hash_list[65]['change_by_nb_trade']"
   ]
  },
  {
   "cell_type": "code",
   "execution_count": 207,
   "metadata": {
    "collapsed": false
   },
   "outputs": [
    {
     "data": {
      "text/plain": [
       "1"
      ]
     },
     "execution_count": 207,
     "metadata": {},
     "output_type": "execute_result"
    }
   ],
   "source": [
    "target_data.TARGET[65]"
   ]
  },
  {
   "cell_type": "code",
   "execution_count": 210,
   "metadata": {
    "collapsed": false
   },
   "outputs": [],
   "source": [
    "## final check \n",
    "for unique_id in unique_ids[0:100]:\n",
    "    if hash_list[unique_id]['target'] != target_data.TARGET[unique_id]:\n",
    "        print 'Mismatch'\n",
    "    "
   ]
  },
  {
   "cell_type": "markdown",
   "metadata": {},
   "source": [
    "## Hooray it works \n",
    "\n",
    "### Lets compute some useful statistics for these newly computed variables"
   ]
  },
  {
   "cell_type": "code",
   "execution_count": 233,
   "metadata": {
    "collapsed": false
   },
   "outputs": [],
   "source": [
    "hist_dict = {}\n",
    "keys = hash_list[1].keys()"
   ]
  },
  {
   "cell_type": "code",
   "execution_count": 235,
   "metadata": {
    "collapsed": false
   },
   "outputs": [],
   "source": [
    "hist_dict = {key: hash_list[1][key] for key in keys if key not in ['target', 'df', 'stats']}"
   ]
  },
  {
   "cell_type": "code",
   "execution_count": 236,
   "metadata": {
    "collapsed": false
   },
   "outputs": [
    {
     "data": {
      "text/plain": [
       "{'change_by_ask_1': 0.0,\n",
       " 'change_by_ask_2': 0.0,\n",
       " 'change_by_ask_entropy_1': 0.0,\n",
       " 'change_by_ask_entropy_2': 0.0,\n",
       " 'change_by_ask_entry_1': 0,\n",
       " 'change_by_ask_entry_2': 0,\n",
       " 'change_by_ask_size_1': 0,\n",
       " 'change_by_ask_size_2': 0,\n",
       " 'change_by_ask_sqentry_1': 0.0,\n",
       " 'change_by_ask_sqentry_2': 0.0,\n",
       " 'change_by_bid_1': 0.0,\n",
       " 'change_by_bid_2': 0.0,\n",
       " 'change_by_bid_entropy_1': 0.0,\n",
       " 'change_by_bid_entropy_2': 0.0,\n",
       " 'change_by_bid_entry_1': 0,\n",
       " 'change_by_bid_entry_2': 0,\n",
       " 'change_by_bid_size_1': 0,\n",
       " 'change_by_bid_size_2': 0,\n",
       " 'change_by_bid_sqentry_1': 0.0,\n",
       " 'change_by_bid_sqentry_2': 0.0,\n",
       " 'change_by_nb_trade': 0.0,\n",
       " 'change_times_ask_1': 0,\n",
       " 'change_times_ask_2': 0,\n",
       " 'change_times_ask_entropy_1': 0,\n",
       " 'change_times_ask_entropy_2': 0,\n",
       " 'change_times_ask_entry_1': 0,\n",
       " 'change_times_ask_entry_2': 0,\n",
       " 'change_times_ask_size_1': 0,\n",
       " 'change_times_ask_size_2': 0,\n",
       " 'change_times_ask_sqentry_1': 0,\n",
       " 'change_times_ask_sqentry_2': 0,\n",
       " 'change_times_bid_1': 0,\n",
       " 'change_times_bid_2': 0,\n",
       " 'change_times_bid_entropy_1': 0,\n",
       " 'change_times_bid_entropy_2': 0,\n",
       " 'change_times_bid_entry_1': 0,\n",
       " 'change_times_bid_entry_2': 0,\n",
       " 'change_times_bid_size_1': 0,\n",
       " 'change_times_bid_size_2': 0,\n",
       " 'change_times_bid_sqentry_1': 0,\n",
       " 'change_times_bid_sqentry_2': 0,\n",
       " 'change_times_nb_trade': 0,\n",
       " 'if_change_ask_1': False,\n",
       " 'if_change_ask_2': False,\n",
       " 'if_change_ask_entropy_1': False,\n",
       " 'if_change_ask_entropy_2': False,\n",
       " 'if_change_ask_entry_1': False,\n",
       " 'if_change_ask_entry_2': False,\n",
       " 'if_change_ask_size_1': False,\n",
       " 'if_change_ask_size_2': False,\n",
       " 'if_change_ask_sqentry_1': False,\n",
       " 'if_change_ask_sqentry_2': False,\n",
       " 'if_change_bid_1': False,\n",
       " 'if_change_bid_2': False,\n",
       " 'if_change_bid_entropy_1': False,\n",
       " 'if_change_bid_entropy_2': False,\n",
       " 'if_change_bid_entry_1': False,\n",
       " 'if_change_bid_entry_2': False,\n",
       " 'if_change_bid_size_1': False,\n",
       " 'if_change_bid_size_2': False,\n",
       " 'if_change_bid_sqentry_1': False,\n",
       " 'if_change_bid_sqentry_2': False,\n",
       " 'if_change_nb_trade': False,\n",
       " 'max_ask_1': 1444.0,\n",
       " 'max_ask_2': 1445.0,\n",
       " 'max_ask_entropy_1': 1.7623147108400001,\n",
       " 'max_ask_entropy_2': 2.4582189416900002,\n",
       " 'max_ask_entry_1': 17,\n",
       " 'max_ask_entry_2': 82,\n",
       " 'max_ask_size_1': 119,\n",
       " 'max_ask_size_2': 579,\n",
       " 'max_ask_sqentry_1': 1.0,\n",
       " 'max_ask_sqentry_2': 1.0,\n",
       " 'max_bid_1': 1443.0,\n",
       " 'max_bid_2': 1442.0,\n",
       " 'max_bid_entropy_1': 1.9159004322400002,\n",
       " 'max_bid_entropy_2': 2.3281993831999999,\n",
       " 'max_bid_entry_1': 35,\n",
       " 'max_bid_entry_2': 78,\n",
       " 'max_bid_size_1': 170,\n",
       " 'max_bid_size_2': 509,\n",
       " 'max_bid_sqentry_1': 64.0,\n",
       " 'max_bid_sqentry_2': 9.0,\n",
       " 'max_nb_trade': 0.0,\n",
       " 'mean_ask_1': 1444.0,\n",
       " 'mean_ask_2': 1445.0,\n",
       " 'mean_ask_entropy_1': 1.7623147108400001,\n",
       " 'mean_ask_entropy_2': 2.4582189416899998,\n",
       " 'mean_ask_entry_1': 17.0,\n",
       " 'mean_ask_entry_2': 82.0,\n",
       " 'mean_ask_size_1': 119.0,\n",
       " 'mean_ask_size_2': 579.0,\n",
       " 'mean_ask_sqentry_1': 1.0,\n",
       " 'mean_ask_sqentry_2': 1.0,\n",
       " 'mean_bid_1': 1443.0,\n",
       " 'mean_bid_2': 1442.0,\n",
       " 'mean_bid_entropy_1': 1.9159004322400004,\n",
       " 'mean_bid_entropy_2': 2.3281993832,\n",
       " 'mean_bid_entry_1': 35.0,\n",
       " 'mean_bid_entry_2': 78.0,\n",
       " 'mean_bid_size_1': 170.0,\n",
       " 'mean_bid_size_2': 509.0,\n",
       " 'mean_bid_sqentry_1': 64.0,\n",
       " 'mean_bid_sqentry_2': 9.0,\n",
       " 'mean_nb_trade': 0.0,\n",
       " 'min_ask_1': 1444.0,\n",
       " 'min_ask_2': 1445.0,\n",
       " 'min_ask_entropy_1': 1.7623147108400001,\n",
       " 'min_ask_entropy_2': 2.4582189416900002,\n",
       " 'min_ask_entry_1': 17,\n",
       " 'min_ask_entry_2': 82,\n",
       " 'min_ask_size_1': 119,\n",
       " 'min_ask_size_2': 579,\n",
       " 'min_ask_sqentry_1': 1.0,\n",
       " 'min_ask_sqentry_2': 1.0,\n",
       " 'min_bid_1': 1443.0,\n",
       " 'min_bid_2': 1442.0,\n",
       " 'min_bid_entropy_1': 1.9159004322400002,\n",
       " 'min_bid_entropy_2': 2.3281993831999999,\n",
       " 'min_bid_entry_1': 35,\n",
       " 'min_bid_entry_2': 78,\n",
       " 'min_bid_size_1': 170,\n",
       " 'min_bid_size_2': 509,\n",
       " 'min_bid_sqentry_1': 64.0,\n",
       " 'min_bid_sqentry_2': 9.0,\n",
       " 'min_nb_trade': 0.0}"
      ]
     },
     "execution_count": 236,
     "metadata": {},
     "output_type": "execute_result"
    }
   ],
   "source": [
    "hist_dict"
   ]
  },
  {
   "cell_type": "code",
   "execution_count": null,
   "metadata": {
    "collapsed": true
   },
   "outputs": [],
   "source": []
  }
 ],
 "metadata": {
  "kernelspec": {
   "display_name": "Python 2",
   "language": "python",
   "name": "python2"
  },
  "language_info": {
   "codemirror_mode": {
    "name": "ipython",
    "version": 2
   },
   "file_extension": ".py",
   "mimetype": "text/x-python",
   "name": "python",
   "nbconvert_exporter": "python",
   "pygments_lexer": "ipython2",
   "version": "2.7.12"
  }
 },
 "nbformat": 4,
 "nbformat_minor": 0
}
